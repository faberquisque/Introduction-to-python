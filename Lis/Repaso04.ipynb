{
 "cells": [
  {
   "cell_type": "code",
   "execution_count": 4,
   "metadata": {},
   "outputs": [
    {
     "data": {
      "text/plain": [
       "19.0"
      ]
     },
     "execution_count": 4,
     "metadata": {},
     "output_type": "execute_result"
    }
   ],
   "source": [
    "a = [1, 3.3, 5, 7.5, 2.2]\n",
    "funciones = {'suma': sum, 'minimo': min, 'maximo': max}\n",
    "funciones['suma'](a)"
   ]
  },
  {
   "cell_type": "code",
   "execution_count": 7,
   "metadata": {},
   "outputs": [
    {
     "name": "stdout",
     "output_type": "stream",
     "text": [
      "suma 19.0\n",
      "minimo 1\n",
      "maximo 7.5\n"
     ]
    }
   ],
   "source": [
    "funciones = {'suma': sum, 'minimo': min, 'maximo': max}\n",
    "for k, v in funciones.items():\n",
    "  print(k, v(a))"
   ]
  },
  {
   "cell_type": "code",
   "execution_count": 6,
   "metadata": {},
   "outputs": [
    {
     "name": "stdout",
     "output_type": "stream",
     "text": [
      "dict_items([('suma', <built-in function sum>), ('minimo', <built-in function min>), ('maximo', <built-in function max>)])\n"
     ]
    }
   ],
   "source": [
    "print(funciones.items())"
   ]
  },
  {
   "cell_type": "code",
   "execution_count": 12,
   "metadata": {},
   "outputs": [
    {
     "name": "stdout",
     "output_type": "stream",
     "text": [
      "suma 19.0 minimo 1 maximo 7.5 "
     ]
    }
   ],
   "source": [
    "funciones = {'suma': sum, 'minimo': min, 'maximo': max}\n",
    "for k, v in funciones.items():\n",
    "  print(k, v(a),end=' ')"
   ]
  },
  {
   "cell_type": "code",
   "execution_count": 20,
   "metadata": {},
   "outputs": [
    {
     "name": "stdout",
     "output_type": "stream",
     "text": [
      "[0, 1, 1, 2, 3, 5, 8, 13, 21, 34, 55, 89, 144, 233, 377, 610, 987, 1597, 2584, 4181]\n"
     ]
    }
   ],
   "source": [
    "def fib(n):\n",
    "  \"\"\"Devuelve una lista con los términos de la serie de Fibonacci hasta n.\"\"\"\n",
    "  result = []\n",
    "  a, b = 0, 1\n",
    "  while a < n:\n",
    "    result.append(a)    \n",
    "    a, b = b, a+b\n",
    "  return result\n",
    "print(fib(5000))"
   ]
  },
  {
   "cell_type": "code",
   "execution_count": 21,
   "metadata": {},
   "outputs": [
    {
     "name": "stdout",
     "output_type": "stream",
     "text": [
      "0 1 1 2 3 5 8 13 21 34 55 89 144 233 377 610 987 1597 2584 4181 "
     ]
    }
   ],
   "source": [
    "a, b = 0, 1\n",
    "while a < 5000:\n",
    "  print (a, end=' ')\n",
    "  (a, b) = (b, a+b)"
   ]
  },
  {
   "cell_type": "code",
   "execution_count": 22,
   "metadata": {},
   "outputs": [
    {
     "name": "stdout",
     "output_type": "stream",
     "text": [
      "Help on function fib in module __main__:\n",
      "\n",
      "fib(n)\n",
      "    Devuelve una lista con los términos de la serie de Fibonacci hasta n.\n",
      "\n"
     ]
    }
   ],
   "source": [
    "help(fib)"
   ]
  },
  {
   "cell_type": "code",
   "execution_count": 40,
   "metadata": {
    "collapsed": true
   },
   "outputs": [],
   "source": [
    "fib?"
   ]
  },
  {
   "cell_type": "code",
   "execution_count": 39,
   "metadata": {},
   "outputs": [
    {
     "name": "stdout",
     "output_type": "stream",
     "text": [
      "[0, 1, 1, 2, 3, 5, 8, 13, 21, 34, 55, 89, 144, 233, 377, 610, 987, 1597, 2584, 4181]\n"
     ]
    }
   ],
   "source": [
    "def fib(n):\n",
    "  \"\"\"Devuelve una lista con los términos de la serie de Fibonacci hasta n.\"\"\"\n",
    "  result = []\n",
    "  a, b = 0, 1\n",
    "  while a < n:\n",
    "    result.append(a)    \n",
    "    a, b = b, a+b\n",
    "  return result\n",
    "print(fib(5000))\n"
   ]
  },
  {
   "cell_type": "code",
   "execution_count": 42,
   "metadata": {
    "collapsed": true
   },
   "outputs": [],
   "source": [
    "h_0 = 500                       # altura inicial en m\n",
    "v_0 = 0                         # velocidad inicial en m/s\n",
    "g = 9.8                         # aceleración de la gravedad en m/s^2\n",
    "def caida(t):\n",
    "  v = v_0 - g*t\n",
    "  h = h_0 - v_0*t - g*t**2/2.\n",
    "  return v,h"
   ]
  },
  {
   "cell_type": "code",
   "execution_count": 43,
   "metadata": {},
   "outputs": [
    {
     "name": "stdout",
     "output_type": "stream",
     "text": [
      "(-9.8, 495.1)\n"
     ]
    }
   ],
   "source": [
    "print(caida(1.))"
   ]
  },
  {
   "cell_type": "code",
   "execution_count": 44,
   "metadata": {},
   "outputs": [
    {
     "name": "stdout",
     "output_type": "stream",
     "text": [
      "-14.700000000000001 488.975\n"
     ]
    }
   ],
   "source": [
    "v, h = caida(1.5) #ejecuta caida con t=1.5 y guarda los valores de v y h a ese t\n",
    "print(v,h)"
   ]
  },
  {
   "cell_type": "code",
   "execution_count": 45,
   "metadata": {},
   "outputs": [
    {
     "name": "stdout",
     "output_type": "stream",
     "text": [
      "Para t = 1.5, la velocidad será v=-14.70, y estará a una altura 488.98\n"
     ]
    }
   ],
   "source": [
    "print('Para t = {0}, la velocidad será v={1:.2f}, y estará a una altura {2:.2f}'.format(1.5, v, h))\n",
    "# el 0,1,2... es la posicion que va el en format, el .2f es la cantidad de decimales que tiene"
   ]
  },
  {
   "cell_type": "code",
   "execution_count": 50,
   "metadata": {},
   "outputs": [
    {
     "name": "stdout",
     "output_type": "stream",
     "text": [
      "Para t = 2.2, la velocidad será v=-21.56, y estará a una altura 476.28\n",
      "-21.560000000000002 476.284\n"
     ]
    }
   ],
   "source": [
    "print('Para t = {0}, la velocidad será v={1:.2f}, y estará a una altura {2:.2f}'.format(2.2, *caida(2.2)))\n",
    "print(*caida(2.2))"
   ]
  },
  {
   "cell_type": "code",
   "execution_count": 52,
   "metadata": {
    "collapsed": true
   },
   "outputs": [],
   "source": [
    "g = 9.8                         # aceleración de la gravedad en m/s^2\n",
    "def caida2(t, h_0, v_0):\n",
    "  v = v_0 - g*t\n",
    "  h = h_0 - v_0*t - g*t**2/2.\n",
    "  return v,h"
   ]
  },
  {
   "cell_type": "code",
   "execution_count": 57,
   "metadata": {},
   "outputs": [
    {
     "name": "stdout",
     "output_type": "stream",
     "text": [
      "Para caída desde 100m, con vel. inicial 12m/s, a t = 2.2, la velocidad será v=-9.56, y estará a una altura 49.88\n"
     ]
    }
   ],
   "source": [
    "print('Para caída desde {h0}m, con vel. inicial {v0}m/s, a t = {0}, la velocidad será v={1:.2f}, y estará a una altura {2:.2f}'.\n",
    "      format(2.2, *caida2(2.2, 100, 12), h0=100, v0=12))"
   ]
  },
  {
   "cell_type": "code",
   "execution_count": null,
   "metadata": {
    "collapsed": true
   },
   "outputs": [],
   "source": []
  }
 ],
 "metadata": {
  "kernelspec": {
   "display_name": "Python 3",
   "language": "python",
   "name": "python3"
  },
  "language_info": {
   "codemirror_mode": {
    "name": "ipython",
    "version": 3
   },
   "file_extension": ".py",
   "mimetype": "text/x-python",
   "name": "python",
   "nbconvert_exporter": "python",
   "pygments_lexer": "ipython3",
   "version": "3.6.1"
  }
 },
 "nbformat": 4,
 "nbformat_minor": 2
}
