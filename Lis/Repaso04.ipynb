{
 "cells": [
  {
   "cell_type": "code",
   "execution_count": 4,
   "metadata": {},
   "outputs": [
    {
     "data": {
      "text/plain": [
       "19.0"
      ]
     },
     "execution_count": 4,
     "metadata": {},
     "output_type": "execute_result"
    }
   ],
   "source": [
    "a = [1, 3.3, 5, 7.5, 2.2]\n",
    "funciones = {'suma': sum, 'minimo': min, 'maximo': max}\n",
    "funciones['suma'](a)"
   ]
  },
  {
   "cell_type": "code",
   "execution_count": 7,
   "metadata": {},
   "outputs": [
    {
     "name": "stdout",
     "output_type": "stream",
     "text": [
      "suma 19.0\n",
      "minimo 1\n",
      "maximo 7.5\n"
     ]
    }
   ],
   "source": [
    "funciones = {'suma': sum, 'minimo': min, 'maximo': max}\n",
    "for k, v in funciones.items():\n",
    "  print(k, v(a))"
   ]
  },
  {
   "cell_type": "code",
   "execution_count": 6,
   "metadata": {},
   "outputs": [
    {
     "name": "stdout",
     "output_type": "stream",
     "text": [
      "dict_items([('suma', <built-in function sum>), ('minimo', <built-in function min>), ('maximo', <built-in function max>)])\n"
     ]
    }
   ],
   "source": [
    "print(funciones.items())"
   ]
  },
  {
   "cell_type": "code",
   "execution_count": 12,
   "metadata": {},
   "outputs": [
    {
     "name": "stdout",
     "output_type": "stream",
     "text": [
      "suma 19.0 minimo 1 maximo 7.5 "
     ]
    }
   ],
   "source": [
    "funciones = {'suma': sum, 'minimo': min, 'maximo': max}\n",
    "for k, v in funciones.items():\n",
    "  print(k, v(a),end=' ')"
   ]
  },
  {
   "cell_type": "code",
   "execution_count": 20,
   "metadata": {},
   "outputs": [
    {
     "name": "stdout",
     "output_type": "stream",
     "text": [
      "[0, 1, 1, 2, 3, 5, 8, 13, 21, 34, 55, 89, 144, 233, 377, 610, 987, 1597, 2584, 4181]\n"
     ]
    }
   ],
   "source": [
    "def fib(n):\n",
    "  \"\"\"Devuelve una lista con los términos de la serie de Fibonacci hasta n.\"\"\"\n",
    "  result = []\n",
    "  a, b = 0, 1\n",
    "  while a < n:\n",
    "    result.append(a)    \n",
    "    a, b = b, a+b\n",
    "  return result\n",
    "print(fib(5000))"
   ]
  },
  {
   "cell_type": "code",
   "execution_count": 21,
   "metadata": {},
   "outputs": [
    {
     "name": "stdout",
     "output_type": "stream",
     "text": [
      "0 1 1 2 3 5 8 13 21 34 55 89 144 233 377 610 987 1597 2584 4181 "
     ]
    }
   ],
   "source": [
    "a, b = 0, 1\n",
    "while a < 5000:\n",
    "  print (a, end=' ')\n",
    "  (a, b) = (b, a+b)"
   ]
  },
  {
   "cell_type": "code",
   "execution_count": 22,
   "metadata": {},
   "outputs": [
    {
     "name": "stdout",
     "output_type": "stream",
     "text": [
      "Help on function fib in module __main__:\n",
      "\n",
      "fib(n)\n",
      "    Devuelve una lista con los términos de la serie de Fibonacci hasta n.\n",
      "\n"
     ]
    }
   ],
   "source": [
    "help(fib)"
   ]
  },
  {
   "cell_type": "code",
   "execution_count": 40,
   "metadata": {
    "collapsed": true
   },
   "outputs": [],
   "source": [
    "fib?"
   ]
  },
  {
   "cell_type": "code",
   "execution_count": 39,
   "metadata": {},
   "outputs": [
    {
     "name": "stdout",
     "output_type": "stream",
     "text": [
      "[0, 1, 1, 2, 3, 5, 8, 13, 21, 34, 55, 89, 144, 233, 377, 610, 987, 1597, 2584, 4181]\n"
     ]
    }
   ],
   "source": [
    "def fib(n):\n",
    "  \"\"\"Devuelve una lista con los términos de la serie de Fibonacci hasta n.\"\"\"\n",
    "  result = []\n",
    "  a, b = 0, 1\n",
    "  while a < n:\n",
    "    result.append(a)    \n",
    "    a, b = b, a+b\n",
    "  return result\n",
    "print(fib(5000))\n"
   ]
  },
  {
   "cell_type": "code",
   "execution_count": 42,
   "metadata": {
    "collapsed": true
   },
   "outputs": [],
   "source": [
    "h_0 = 500                       # altura inicial en m\n",
    "v_0 = 0                         # velocidad inicial en m/s\n",
    "g = 9.8                         # aceleración de la gravedad en m/s^2\n",
    "def caida(t):\n",
    "  v = v_0 - g*t\n",
    "  h = h_0 - v_0*t - g*t**2/2.\n",
    "  return v,h"
   ]
  },
  {
   "cell_type": "code",
   "execution_count": 43,
   "metadata": {},
   "outputs": [
    {
     "name": "stdout",
     "output_type": "stream",
     "text": [
      "(-9.8, 495.1)\n"
     ]
    }
   ],
   "source": [
    "print(caida(1.))"
   ]
  },
  {
   "cell_type": "code",
   "execution_count": 44,
   "metadata": {},
   "outputs": [
    {
     "name": "stdout",
     "output_type": "stream",
     "text": [
      "-14.700000000000001 488.975\n"
     ]
    }
   ],
   "source": [
    "v, h = caida(1.5) #ejecuta caida con t=1.5 y guarda los valores de v y h a ese t\n",
    "print(v,h)"
   ]
  },
  {
   "cell_type": "code",
   "execution_count": 45,
   "metadata": {},
   "outputs": [
    {
     "name": "stdout",
     "output_type": "stream",
     "text": [
      "Para t = 1.5, la velocidad será v=-14.70, y estará a una altura 488.98\n"
     ]
    }
   ],
   "source": [
    "print('Para t = {0}, la velocidad será v={1:.2f}, y estará a una altura {2:.2f}'.format(1.5, v, h))\n",
    "# el 0,1,2... es la posicion que va el en format, el .2f es la cantidad de decimales que tiene"
   ]
  },
  {
   "cell_type": "code",
   "execution_count": 50,
   "metadata": {},
   "outputs": [
    {
     "name": "stdout",
     "output_type": "stream",
     "text": [
      "Para t = 2.2, la velocidad será v=-21.56, y estará a una altura 476.28\n",
      "-21.560000000000002 476.284\n"
     ]
    }
   ],
   "source": [
    "print('Para t = {0}, la velocidad será v={1:.2f}, y estará a una altura {2:.2f}'.format(2.2, *caida(2.2)))\n",
    "print(*caida(2.2))"
   ]
  },
  {
   "cell_type": "code",
   "execution_count": 52,
   "metadata": {
    "collapsed": true
   },
   "outputs": [],
   "source": [
    "g = 9.8                         # aceleración de la gravedad en m/s^2\n",
    "def caida2(t, h_0, v_0):\n",
    "  v = v_0 - g*t\n",
    "  h = h_0 - v_0*t - g*t**2/2.\n",
    "  return v,h"
   ]
  },
  {
   "cell_type": "code",
   "execution_count": 57,
   "metadata": {},
   "outputs": [
    {
     "name": "stdout",
     "output_type": "stream",
     "text": [
      "Para caída desde 100m, con vel. inicial 12m/s, a t = 2.2, la velocidad será v=-9.56, y estará a una altura 49.88\n"
     ]
    }
   ],
   "source": [
    "print('Para caída desde {h0}m, con vel. inicial {v0}m/s, a t = {0}, la velocidad será v={1:.2f}, y estará a una altura {2:.2f}'.\n",
    "      format(2.2, *caida2(2.2, 100, 12), h0=100, v0=12))"
   ]
  },
  {
   "cell_type": "code",
   "execution_count": 2,
   "metadata": {
    "collapsed": true
   },
   "outputs": [],
   "source": [
    "def caida_libre(t, h0=500, v0 = 0., g=9.8):\n",
    "  \"\"\"Devuelve la velocidad y la posición de una partícula en\n",
    "  caída libre para condiciones iniciales dadas\n",
    "\n",
    "  Parameters\n",
    "  ----------\n",
    "  t : float\n",
    "      el tiempo al que queremos realizar el cálculo\n",
    "  h0: float \n",
    "      la altura inicial\n",
    "  v0: float (opcional)\n",
    "      la velocidad inicial (default = 0.0)\n",
    "   g: float (opcional)\n",
    "      valor de la aceleración de la gravedad\n",
    "\n",
    "  Returns\n",
    "  -------\n",
    "  (v,h):  tuple of floats\n",
    "       v= v0 - g*t\n",
    "       h= h0 - v0*t -g*t^2/2\n",
    "  \n",
    "  \"\"\"\n",
    "  v = v0 - g*t\n",
    "  h = h0 - v0*t - g*t**2/2.\n",
    "  return v,h\n"
   ]
  },
  {
   "cell_type": "code",
   "execution_count": 3,
   "metadata": {},
   "outputs": [
    {
     "name": "stdout",
     "output_type": "stream",
     "text": [
      "(-19.6, 480.4)\n"
     ]
    }
   ],
   "source": [
    "print(caida_libre(2))        # Desde 500 metros con velocidad inicial cero"
   ]
  },
  {
   "cell_type": "code",
   "execution_count": 4,
   "metadata": {},
   "outputs": [
    {
     "name": "stdout",
     "output_type": "stream",
     "text": [
      "(-29.6, 1000.4)\n"
     ]
    }
   ],
   "source": [
    "print(caida_libre(2, 1000, v0=-10)) # Desde 1000 metros con velocidad inicial hacia arriba"
   ]
  },
  {
   "cell_type": "code",
   "execution_count": 5,
   "metadata": {},
   "outputs": [
    {
     "name": "stdout",
     "output_type": "stream",
     "text": [
      "p: 1\n",
      "args: (2, 3)\n",
      "kwargs: {}\n"
     ]
    }
   ],
   "source": [
    "def f(p, *args, **kwargs):#* saca un tuple, **saca un diccionario\n",
    "     print( \"p:\", p)\n",
    "     print( \"args:\", args)\n",
    "     print( \"kwargs:\", kwargs)\n",
    "\n",
    "f(1,2,3)"
   ]
  },
  {
   "cell_type": "code",
   "execution_count": 6,
   "metadata": {},
   "outputs": [
    {
     "name": "stdout",
     "output_type": "stream",
     "text": [
      "p: 1\n",
      "args: (2, 3, 5)\n",
      "kwargs: {'anteultimo': 3, 'ultimo': 1}\n"
     ]
    }
   ],
   "source": [
    "f(1,2, 3, 5, anteultimo= 3, ultimo = 1)"
   ]
  },
  {
   "cell_type": "code",
   "execution_count": 12,
   "metadata": {
    "collapsed": true
   },
   "outputs": [],
   "source": [
    "def multiplica(*ingreseValores):\n",
    "  s = 2\n",
    "  print(type(ingreseValores))\n",
    "  for a in ingreseValores:\n",
    "    s *= a #esto quiere decir s=s*a\n",
    "  return s"
   ]
  },
  {
   "cell_type": "code",
   "execution_count": 13,
   "metadata": {},
   "outputs": [
    {
     "name": "stdout",
     "output_type": "stream",
     "text": [
      "<class 'tuple'>\n"
     ]
    },
    {
     "data": {
      "text/plain": [
       "4"
      ]
     },
     "execution_count": 13,
     "metadata": {},
     "output_type": "execute_result"
    }
   ],
   "source": [
    "multiplica(2)"
   ]
  },
  {
   "cell_type": "code",
   "execution_count": 14,
   "metadata": {},
   "outputs": [
    {
     "name": "stdout",
     "output_type": "stream",
     "text": [
      "<class 'tuple'>\n"
     ]
    },
    {
     "data": {
      "text/plain": [
       "6480"
      ]
     },
     "execution_count": 14,
     "metadata": {},
     "output_type": "execute_result"
    }
   ],
   "source": [
    "multiplica(2,3,5,9,12)"
   ]
  },
  {
   "cell_type": "code",
   "execution_count": 19,
   "metadata": {},
   "outputs": [
    {
     "data": {
      "text/plain": [
       "(-52.92000000000001, 857.116)"
      ]
     },
     "execution_count": 19,
     "metadata": {},
     "output_type": "execute_result"
    }
   ],
   "source": [
    "datos = (5.4, 1000, 0)\n",
    "caida_libre(*datos)\n",
    "#caida_libre(datos[0],datos[1],datos[2])"
   ]
  },
  {
   "cell_type": "code",
   "execution_count": 21,
   "metadata": {},
   "outputs": [
    {
     "name": "stdout",
     "output_type": "stream",
     "text": [
      "-1.08 997.084\n",
      "v=-1.08, h=997.084\n"
     ]
    }
   ],
   "source": [
    "otros_datos = {'t':5.4, 'h0': 1000., \"g\" : 0.2} # diccionario, caída libre en la luna\n",
    "v, h = caida_libre(**otros_datos)\n",
    "print (v,h)\n",
    "print ('v={}, h={}'.format(v,h))"
   ]
  },
  {
   "cell_type": "code",
   "execution_count": 22,
   "metadata": {
    "collapsed": true
   },
   "outputs": [],
   "source": [
    "def mas_uno(func):\n",
    "  \"Devuelve una función\"\n",
    "\n",
    "  def fun(args):\n",
    "    \"Agrega 1 a cada uno de los elementos y luego aplica la función\"\n",
    "    xx = [x+1 for x in args]\n",
    "    y= func(xx)\n",
    "    return y\n",
    "  \n",
    "  return fun"
   ]
  },
  {
   "cell_type": "code",
   "execution_count": 41,
   "metadata": {},
   "outputs": [
    {
     "data": {
      "text/plain": [
       "5"
      ]
     },
     "execution_count": 41,
     "metadata": {},
     "output_type": "execute_result"
    }
   ],
   "source": [
    "h= mas_uno(sum)\n",
    "#el resultado sería (1+1, 2+1), y=sum(2+3)\n",
    "h((1,2)) #arg=1,2\n"
   ]
  },
  {
   "cell_type": "code",
   "execution_count": 42,
   "metadata": {},
   "outputs": [
    {
     "data": {
      "text/plain": [
       "3"
      ]
     },
     "execution_count": 42,
     "metadata": {},
     "output_type": "execute_result"
    }
   ],
   "source": [
    "z= mas_uno(max)\n",
    "z((1,2))"
   ]
  },
  {
   "cell_type": "code",
   "execution_count": 44,
   "metadata": {},
   "outputs": [
    {
     "name": "stdout",
     "output_type": "stream",
     "text": [
      "3\n"
     ]
    }
   ],
   "source": [
    "a=(1,2)\n",
    "print(mas_uno(max)(a))"
   ]
  },
  {
   "cell_type": "code",
   "execution_count": 46,
   "metadata": {},
   "outputs": [
    {
     "name": "stdout",
     "output_type": "stream",
     "text": [
      "Help on class enumerate in module builtins:\n",
      "\n",
      "class enumerate(object)\n",
      " |  enumerate(iterable[, start]) -> iterator for index, value of iterable\n",
      " |  \n",
      " |  Return an enumerate object.  iterable must be another object that supports\n",
      " |  iteration.  The enumerate object yields pairs containing a count (from\n",
      " |  start, which defaults to zero) and a value yielded by the iterable argument.\n",
      " |  enumerate is useful for obtaining an indexed list:\n",
      " |      (0, seq[0]), (1, seq[1]), (2, seq[2]), ...\n",
      " |  \n",
      " |  Methods defined here:\n",
      " |  \n",
      " |  __getattribute__(self, name, /)\n",
      " |      Return getattr(self, name).\n",
      " |  \n",
      " |  __iter__(self, /)\n",
      " |      Implement iter(self).\n",
      " |  \n",
      " |  __new__(*args, **kwargs) from builtins.type\n",
      " |      Create and return a new object.  See help(type) for accurate signature.\n",
      " |  \n",
      " |  __next__(self, /)\n",
      " |      Implement next(self).\n",
      " |  \n",
      " |  __reduce__(...)\n",
      " |      Return state information for pickling.\n",
      "\n"
     ]
    }
   ],
   "source": [
    "help(enumerate)"
   ]
  },
  {
   "cell_type": "code",
   "execution_count": null,
   "metadata": {
    "collapsed": true
   },
   "outputs": [],
   "source": []
  }
 ],
 "metadata": {
  "kernelspec": {
   "display_name": "Python 3",
   "language": "python",
   "name": "python3"
  },
  "language_info": {
   "codemirror_mode": {
    "name": "ipython",
    "version": 3
   },
   "file_extension": ".py",
   "mimetype": "text/x-python",
   "name": "python",
   "nbconvert_exporter": "python",
   "pygments_lexer": "ipython3",
   "version": "3.6.1"
  }
 },
 "nbformat": 4,
 "nbformat_minor": 2
}
